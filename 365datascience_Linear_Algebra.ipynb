{
  "nbformat": 4,
  "nbformat_minor": 0,
  "metadata": {
    "colab": {
      "provenance": [],
      "collapsed_sections": [
        "jyyX29OAxg06",
        "hwQWVtO_xrTZ",
        "0ZqNi3_m1Wg2",
        "vO6mc9Z61jhv",
        "qP7RFJLjx7o5",
        "7VMe-WtY1qnR",
        "coOBjOrj1qnT",
        "NfV7b-XK3bT1",
        "Cq6xZhUJyecw",
        "V-6O3yJW13p2",
        "g3dxUIm813p2",
        "7vLkavY34TLg",
        "ZZ3aWL8Gzu0Q",
        "NSQLj-Yu5KSo",
        "x-WFaYUA5O_V",
        "1GHOtrmv5S9s",
        "Y4kqYyrG5jls",
        "uEeUSRyC7D4r",
        "GMDO_BUE6-rx"
      ]
    },
    "kernelspec": {
      "name": "python3",
      "display_name": "Python 3"
    },
    "language_info": {
      "name": "python"
    }
  },
  "cells": [
    {
      "cell_type": "markdown",
      "source": [
        "## Import Libraries"
      ],
      "metadata": {
        "id": "jyyX29OAxg06"
      }
    },
    {
      "cell_type": "code",
      "execution_count": 1,
      "metadata": {
        "id": "CBwghfSuwSgL"
      },
      "outputs": [],
      "source": [
        "import numpy as np"
      ]
    },
    {
      "cell_type": "markdown",
      "source": [
        "## Scalars"
      ],
      "metadata": {
        "id": "hwQWVtO_xrTZ"
      }
    },
    {
      "cell_type": "code",
      "source": [
        "s = 10\n",
        "print(s)"
      ],
      "metadata": {
        "colab": {
          "base_uri": "https://localhost:8080/"
        },
        "id": "18RdlNovxl_v",
        "outputId": "78111482-2cc3-487d-cc1a-80952aeb4be4"
      },
      "execution_count": 3,
      "outputs": [
        {
          "output_type": "stream",
          "name": "stdout",
          "text": [
            "10\n"
          ]
        }
      ]
    },
    {
      "cell_type": "code",
      "source": [
        "type(s)"
      ],
      "metadata": {
        "colab": {
          "base_uri": "https://localhost:8080/"
        },
        "id": "cyz_unBExueq",
        "outputId": "ad428d89-2766-4693-a837-0f6d96cfffb6"
      },
      "execution_count": 4,
      "outputs": [
        {
          "output_type": "execute_result",
          "data": {
            "text/plain": [
              "int"
            ]
          },
          "metadata": {},
          "execution_count": 4
        }
      ]
    },
    {
      "cell_type": "markdown",
      "source": [
        "> ### Addition"
      ],
      "metadata": {
        "id": "0ZqNi3_m1Wg2"
      }
    },
    {
      "cell_type": "code",
      "source": [
        "s1 = 10\n",
        "s2 = 5"
      ],
      "metadata": {
        "id": "E3OFiPRn1XyH"
      },
      "execution_count": 45,
      "outputs": []
    },
    {
      "cell_type": "code",
      "source": [
        "s1 + s2"
      ],
      "metadata": {
        "colab": {
          "base_uri": "https://localhost:8080/"
        },
        "id": "jGh0Ah861fK3",
        "outputId": "1505de4c-459e-46c4-e691-023e91ef57d2"
      },
      "execution_count": 46,
      "outputs": [
        {
          "output_type": "execute_result",
          "data": {
            "text/plain": [
              "15"
            ]
          },
          "metadata": {},
          "execution_count": 46
        }
      ]
    },
    {
      "cell_type": "markdown",
      "source": [
        "> ### Difference"
      ],
      "metadata": {
        "id": "vO6mc9Z61jhv"
      }
    },
    {
      "cell_type": "code",
      "source": [
        "s1 - s2"
      ],
      "metadata": {
        "colab": {
          "base_uri": "https://localhost:8080/"
        },
        "id": "Nuxw2APR1kvm",
        "outputId": "a9cb1863-0e6c-40b6-ea2c-ce3554e3c829"
      },
      "execution_count": 47,
      "outputs": [
        {
          "output_type": "execute_result",
          "data": {
            "text/plain": [
              "5"
            ]
          },
          "metadata": {},
          "execution_count": 47
        }
      ]
    },
    {
      "cell_type": "markdown",
      "source": [
        "## Vector"
      ],
      "metadata": {
        "id": "qP7RFJLjx7o5"
      }
    },
    {
      "cell_type": "code",
      "source": [
        "v = np.array([15, 2, 1999])"
      ],
      "metadata": {
        "id": "2szak27ux2Ag"
      },
      "execution_count": 24,
      "outputs": []
    },
    {
      "cell_type": "code",
      "source": [
        "v"
      ],
      "metadata": {
        "colab": {
          "base_uri": "https://localhost:8080/"
        },
        "id": "OmpjU6OKyDE0",
        "outputId": "d78e2267-5150-4ab0-af9e-a3af21f7862b"
      },
      "execution_count": 25,
      "outputs": [
        {
          "output_type": "execute_result",
          "data": {
            "text/plain": [
              "array([  15,    2, 1999])"
            ]
          },
          "metadata": {},
          "execution_count": 25
        }
      ]
    },
    {
      "cell_type": "code",
      "source": [
        "type(v)"
      ],
      "metadata": {
        "colab": {
          "base_uri": "https://localhost:8080/"
        },
        "id": "MY1L8L4PyK4s",
        "outputId": "ee48fa77-a3ee-4369-8d11-fa1b471b731b"
      },
      "execution_count": 26,
      "outputs": [
        {
          "output_type": "execute_result",
          "data": {
            "text/plain": [
              "numpy.ndarray"
            ]
          },
          "metadata": {},
          "execution_count": 26
        }
      ]
    },
    {
      "cell_type": "code",
      "source": [
        "v.shape"
      ],
      "metadata": {
        "colab": {
          "base_uri": "https://localhost:8080/"
        },
        "id": "ix4ZZkNByQlN",
        "outputId": "d9039d61-be2a-4b9b-e18f-e382e36a4516"
      },
      "execution_count": 27,
      "outputs": [
        {
          "output_type": "execute_result",
          "data": {
            "text/plain": [
              "(3,)"
            ]
          },
          "metadata": {},
          "execution_count": 27
        }
      ]
    },
    {
      "cell_type": "code",
      "source": [
        "v.reshape(3,1)"
      ],
      "metadata": {
        "colab": {
          "base_uri": "https://localhost:8080/"
        },
        "id": "QEByiG0AyVoM",
        "outputId": "c9760fbf-7d93-441e-8e8c-3f487fa89bcc"
      },
      "execution_count": 28,
      "outputs": [
        {
          "output_type": "execute_result",
          "data": {
            "text/plain": [
              "array([[  15],\n",
              "       [   2],\n",
              "       [1999]])"
            ]
          },
          "metadata": {},
          "execution_count": 28
        }
      ]
    },
    {
      "cell_type": "code",
      "source": [
        "v.reshape(1,3)"
      ],
      "metadata": {
        "colab": {
          "base_uri": "https://localhost:8080/"
        },
        "id": "Lth8yClyySz6",
        "outputId": "e33e315c-6d6b-4a8f-d07a-55829e1bdb36"
      },
      "execution_count": 29,
      "outputs": [
        {
          "output_type": "execute_result",
          "data": {
            "text/plain": [
              "array([[  15,    2, 1999]])"
            ]
          },
          "metadata": {},
          "execution_count": 29
        }
      ]
    },
    {
      "cell_type": "markdown",
      "source": [
        "> ### Addition"
      ],
      "metadata": {
        "id": "7VMe-WtY1qnR"
      }
    },
    {
      "cell_type": "code",
      "source": [
        "v1 = np.array([1,2,3,4,5])\n",
        "v2 = np.array([5,4,3,2,1])"
      ],
      "metadata": {
        "id": "_-S68_wE1qnR"
      },
      "execution_count": 48,
      "outputs": []
    },
    {
      "cell_type": "code",
      "source": [
        "v1 + v2"
      ],
      "metadata": {
        "colab": {
          "base_uri": "https://localhost:8080/"
        },
        "outputId": "320d6e03-a283-4e9c-8142-6a6f376a031e",
        "id": "xVYcbKGm1qnS"
      },
      "execution_count": 49,
      "outputs": [
        {
          "output_type": "execute_result",
          "data": {
            "text/plain": [
              "array([6, 6, 6, 6, 6])"
            ]
          },
          "metadata": {},
          "execution_count": 49
        }
      ]
    },
    {
      "cell_type": "code",
      "source": [
        "v1 + s1"
      ],
      "metadata": {
        "colab": {
          "base_uri": "https://localhost:8080/"
        },
        "id": "ISQHoz_W2NI3",
        "outputId": "06f9bd63-e929-4f1f-c064-b658e992a81a"
      },
      "execution_count": 56,
      "outputs": [
        {
          "output_type": "execute_result",
          "data": {
            "text/plain": [
              "array([11, 12, 13, 14, 15])"
            ]
          },
          "metadata": {},
          "execution_count": 56
        }
      ]
    },
    {
      "cell_type": "markdown",
      "source": [
        "> ### Difference"
      ],
      "metadata": {
        "id": "coOBjOrj1qnT"
      }
    },
    {
      "cell_type": "code",
      "source": [
        "v1 - v2"
      ],
      "metadata": {
        "colab": {
          "base_uri": "https://localhost:8080/"
        },
        "outputId": "fe90a61e-1bd3-4dab-a6d6-ca9dd02f30e6",
        "id": "zjIC6_381qnT"
      },
      "execution_count": 50,
      "outputs": [
        {
          "output_type": "execute_result",
          "data": {
            "text/plain": [
              "array([-4, -2,  0,  2,  4])"
            ]
          },
          "metadata": {},
          "execution_count": 50
        }
      ]
    },
    {
      "cell_type": "code",
      "source": [
        "s1 - v1"
      ],
      "metadata": {
        "colab": {
          "base_uri": "https://localhost:8080/"
        },
        "id": "DDDZTGop2S9H",
        "outputId": "f23f32d7-9a51-4033-abe0-a58ac3e4bd82"
      },
      "execution_count": 57,
      "outputs": [
        {
          "output_type": "execute_result",
          "data": {
            "text/plain": [
              "array([9, 8, 7, 6, 5])"
            ]
          },
          "metadata": {},
          "execution_count": 57
        }
      ]
    },
    {
      "cell_type": "markdown",
      "source": [
        "> ### Transposing"
      ],
      "metadata": {
        "id": "NfV7b-XK3bT1"
      }
    },
    {
      "cell_type": "code",
      "source": [
        "x = np.array([1,2,3])\n",
        "x"
      ],
      "metadata": {
        "colab": {
          "base_uri": "https://localhost:8080/"
        },
        "outputId": "084c344f-a263-41de-d3d9-0ee5c26689ba",
        "id": "S_zH04Oz3bT1"
      },
      "execution_count": 79,
      "outputs": [
        {
          "output_type": "execute_result",
          "data": {
            "text/plain": [
              "array([1, 2, 3])"
            ]
          },
          "metadata": {},
          "execution_count": 79
        }
      ]
    },
    {
      "cell_type": "code",
      "source": [
        "x.shape"
      ],
      "metadata": {
        "colab": {
          "base_uri": "https://localhost:8080/"
        },
        "outputId": "77b0e47d-fed4-42e0-b7f4-870ffde152e4",
        "id": "T4YZ530s3bT1"
      },
      "execution_count": 80,
      "outputs": [
        {
          "output_type": "execute_result",
          "data": {
            "text/plain": [
              "(3,)"
            ]
          },
          "metadata": {},
          "execution_count": 80
        }
      ]
    },
    {
      "cell_type": "code",
      "source": [
        "x.T"
      ],
      "metadata": {
        "colab": {
          "base_uri": "https://localhost:8080/"
        },
        "id": "dPf8fB-h3mXO",
        "outputId": "91f35a35-c4e9-456e-e87a-29047980b4b0"
      },
      "execution_count": 81,
      "outputs": [
        {
          "output_type": "execute_result",
          "data": {
            "text/plain": [
              "array([1, 2, 3])"
            ]
          },
          "metadata": {},
          "execution_count": 81
        }
      ]
    },
    {
      "cell_type": "code",
      "source": [
        "x_reshaped = x.reshape(1,3)\n",
        "x_reshaped"
      ],
      "metadata": {
        "colab": {
          "base_uri": "https://localhost:8080/"
        },
        "id": "I7NU4DGj3t7G",
        "outputId": "f8e5a187-31b0-4a47-fdea-64006c5b8465"
      },
      "execution_count": 82,
      "outputs": [
        {
          "output_type": "execute_result",
          "data": {
            "text/plain": [
              "array([[1, 2, 3]])"
            ]
          },
          "metadata": {},
          "execution_count": 82
        }
      ]
    },
    {
      "cell_type": "code",
      "source": [
        "x_reshaped.shape"
      ],
      "metadata": {
        "colab": {
          "base_uri": "https://localhost:8080/"
        },
        "id": "2uvWT7Gq3-qw",
        "outputId": "da4e4502-4cbe-42d3-dc83-5b2c9aed6e40"
      },
      "execution_count": 83,
      "outputs": [
        {
          "output_type": "execute_result",
          "data": {
            "text/plain": [
              "(1, 3)"
            ]
          },
          "metadata": {},
          "execution_count": 83
        }
      ]
    },
    {
      "cell_type": "code",
      "source": [
        "x_reshaped = x_reshaped.T\n",
        "x_reshaped"
      ],
      "metadata": {
        "colab": {
          "base_uri": "https://localhost:8080/"
        },
        "id": "7sz1LdxH3-nd",
        "outputId": "7b650e2d-d219-4fe6-86b9-35f707ae1067"
      },
      "execution_count": 84,
      "outputs": [
        {
          "output_type": "execute_result",
          "data": {
            "text/plain": [
              "array([[1],\n",
              "       [2],\n",
              "       [3]])"
            ]
          },
          "metadata": {},
          "execution_count": 84
        }
      ]
    },
    {
      "cell_type": "code",
      "source": [
        "x_reshaped.shape"
      ],
      "metadata": {
        "colab": {
          "base_uri": "https://localhost:8080/"
        },
        "id": "gkR_U2yy4PO9",
        "outputId": "7da8a56f-0a66-4ac5-db36-bb70c1ee5e3c"
      },
      "execution_count": 85,
      "outputs": [
        {
          "output_type": "execute_result",
          "data": {
            "text/plain": [
              "(3, 1)"
            ]
          },
          "metadata": {},
          "execution_count": 85
        }
      ]
    },
    {
      "cell_type": "markdown",
      "source": [
        "## Matrices"
      ],
      "metadata": {
        "id": "Cq6xZhUJyecw"
      }
    },
    {
      "cell_type": "code",
      "source": [
        "m = np.array([[15, 2, 1999], [11, 11, 1999]])"
      ],
      "metadata": {
        "id": "vCeQQDFNyXiA"
      },
      "execution_count": 22,
      "outputs": []
    },
    {
      "cell_type": "code",
      "source": [
        "m"
      ],
      "metadata": {
        "colab": {
          "base_uri": "https://localhost:8080/"
        },
        "id": "6mMUZ_HYyuzQ",
        "outputId": "afc77b68-66de-4c37-cbe6-730de3e9c66d"
      },
      "execution_count": 23,
      "outputs": [
        {
          "output_type": "execute_result",
          "data": {
            "text/plain": [
              "array([[  15,    2, 1999],\n",
              "       [  11,   11, 1999]])"
            ]
          },
          "metadata": {},
          "execution_count": 23
        }
      ]
    },
    {
      "cell_type": "code",
      "source": [
        "type(m)"
      ],
      "metadata": {
        "colab": {
          "base_uri": "https://localhost:8080/"
        },
        "outputId": "9e0e8069-6332-41b0-a106-f6c5b161e6d3",
        "id": "Hthwf08hy0Iq"
      },
      "execution_count": 30,
      "outputs": [
        {
          "output_type": "execute_result",
          "data": {
            "text/plain": [
              "numpy.ndarray"
            ]
          },
          "metadata": {},
          "execution_count": 30
        }
      ]
    },
    {
      "cell_type": "code",
      "source": [
        "m.shape"
      ],
      "metadata": {
        "colab": {
          "base_uri": "https://localhost:8080/"
        },
        "outputId": "0c0680c9-0cd9-44a3-b224-097f73ee9904",
        "id": "P3N3D89vy0Ir"
      },
      "execution_count": 31,
      "outputs": [
        {
          "output_type": "execute_result",
          "data": {
            "text/plain": [
              "(2, 3)"
            ]
          },
          "metadata": {},
          "execution_count": 31
        }
      ]
    },
    {
      "cell_type": "markdown",
      "source": [
        "> ### Addition"
      ],
      "metadata": {
        "id": "V-6O3yJW13p2"
      }
    },
    {
      "cell_type": "code",
      "source": [
        "m5 = np.array([[22.33,-4.73],[-203.14,1200.02],[4.22,234.1]])\n",
        "m5"
      ],
      "metadata": {
        "colab": {
          "base_uri": "https://localhost:8080/"
        },
        "id": "HGKyC8i-13p2",
        "outputId": "0492ee76-a6dc-46dd-de3c-e0ee6d737e59"
      },
      "execution_count": 51,
      "outputs": [
        {
          "output_type": "execute_result",
          "data": {
            "text/plain": [
              "array([[  22.33,   -4.73],\n",
              "       [-203.14, 1200.02],\n",
              "       [   4.22,  234.1 ]])"
            ]
          },
          "metadata": {},
          "execution_count": 51
        }
      ]
    },
    {
      "cell_type": "code",
      "source": [
        "m6 = np.array([[131.13,448.29],[-340.21,1.06],[30.41,424.99]])\n",
        "m6"
      ],
      "metadata": {
        "colab": {
          "base_uri": "https://localhost:8080/"
        },
        "outputId": "22b0a88f-c18e-41d3-e29f-3756adb79b0d",
        "id": "2BW01nVc13p2"
      },
      "execution_count": 52,
      "outputs": [
        {
          "output_type": "execute_result",
          "data": {
            "text/plain": [
              "array([[ 131.13,  448.29],\n",
              "       [-340.21,    1.06],\n",
              "       [  30.41,  424.99]])"
            ]
          },
          "metadata": {},
          "execution_count": 52
        }
      ]
    },
    {
      "cell_type": "code",
      "source": [
        "m5 + m6"
      ],
      "metadata": {
        "colab": {
          "base_uri": "https://localhost:8080/"
        },
        "id": "tSioOtHT18pP",
        "outputId": "11307854-f29d-4196-ffe4-ecdeaf5120da"
      },
      "execution_count": 53,
      "outputs": [
        {
          "output_type": "execute_result",
          "data": {
            "text/plain": [
              "array([[ 153.46,  443.56],\n",
              "       [-543.35, 1201.08],\n",
              "       [  34.63,  659.09]])"
            ]
          },
          "metadata": {},
          "execution_count": 53
        }
      ]
    },
    {
      "cell_type": "code",
      "source": [
        "m5 + s1"
      ],
      "metadata": {
        "colab": {
          "base_uri": "https://localhost:8080/"
        },
        "id": "MdAkNVWd2Xb-",
        "outputId": "adfcda7d-0dd4-431d-d6c6-6bc5fda3669f"
      },
      "execution_count": 58,
      "outputs": [
        {
          "output_type": "execute_result",
          "data": {
            "text/plain": [
              "array([[  32.33,    5.27],\n",
              "       [-193.14, 1210.02],\n",
              "       [  14.22,  244.1 ]])"
            ]
          },
          "metadata": {},
          "execution_count": 58
        }
      ]
    },
    {
      "cell_type": "markdown",
      "source": [
        "> ### Difference"
      ],
      "metadata": {
        "id": "g3dxUIm813p2"
      }
    },
    {
      "cell_type": "code",
      "source": [
        "m5 - m6"
      ],
      "metadata": {
        "colab": {
          "base_uri": "https://localhost:8080/"
        },
        "outputId": "db8e0e09-916b-4f6c-efb5-8a18ecf4a6ea",
        "id": "hHPiLwlv13p2"
      },
      "execution_count": 54,
      "outputs": [
        {
          "output_type": "execute_result",
          "data": {
            "text/plain": [
              "array([[-108.8 , -453.02],\n",
              "       [ 137.07, 1198.96],\n",
              "       [ -26.19, -190.89]])"
            ]
          },
          "metadata": {},
          "execution_count": 54
        }
      ]
    },
    {
      "cell_type": "code",
      "source": [
        "m5 - s1"
      ],
      "metadata": {
        "colab": {
          "base_uri": "https://localhost:8080/"
        },
        "id": "gsAGo8l82aOu",
        "outputId": "cc37fee7-83ea-4d48-e861-d7697f99bc86"
      },
      "execution_count": 59,
      "outputs": [
        {
          "output_type": "execute_result",
          "data": {
            "text/plain": [
              "array([[  12.33,  -14.73],\n",
              "       [-213.14, 1190.02],\n",
              "       [  -5.78,  224.1 ]])"
            ]
          },
          "metadata": {},
          "execution_count": 59
        }
      ]
    },
    {
      "cell_type": "markdown",
      "source": [
        "> ### Transposing"
      ],
      "metadata": {
        "id": "7vLkavY34TLg"
      }
    },
    {
      "cell_type": "code",
      "source": [
        "A = np.array([[5,12,6],[-3,0,14]])\n",
        "A"
      ],
      "metadata": {
        "colab": {
          "base_uri": "https://localhost:8080/"
        },
        "outputId": "b4bb14e3-a30f-473c-ba64-997959fba8f6",
        "id": "Fm2KNpED4TLg"
      },
      "execution_count": 86,
      "outputs": [
        {
          "output_type": "execute_result",
          "data": {
            "text/plain": [
              "array([[ 5, 12,  6],\n",
              "       [-3,  0, 14]])"
            ]
          },
          "metadata": {},
          "execution_count": 86
        }
      ]
    },
    {
      "cell_type": "code",
      "source": [
        "A.shape"
      ],
      "metadata": {
        "colab": {
          "base_uri": "https://localhost:8080/"
        },
        "outputId": "ba1a6b05-d400-4a71-c1b2-8fc17e7c911a",
        "id": "iuzB8MU04TLg"
      },
      "execution_count": 87,
      "outputs": [
        {
          "output_type": "execute_result",
          "data": {
            "text/plain": [
              "(2, 3)"
            ]
          },
          "metadata": {},
          "execution_count": 87
        }
      ]
    },
    {
      "cell_type": "code",
      "source": [
        "A = A.T"
      ],
      "metadata": {
        "id": "AiKtUNVN4TLg"
      },
      "execution_count": 88,
      "outputs": []
    },
    {
      "cell_type": "code",
      "source": [
        "A"
      ],
      "metadata": {
        "colab": {
          "base_uri": "https://localhost:8080/"
        },
        "outputId": "15e2e1f5-278e-48d8-cd57-126c5c5ec606",
        "id": "jtKg4eXs4TLh"
      },
      "execution_count": 89,
      "outputs": [
        {
          "output_type": "execute_result",
          "data": {
            "text/plain": [
              "array([[ 5, -3],\n",
              "       [12,  0],\n",
              "       [ 6, 14]])"
            ]
          },
          "metadata": {},
          "execution_count": 89
        }
      ]
    },
    {
      "cell_type": "code",
      "source": [
        "A.shape"
      ],
      "metadata": {
        "outputId": "30977a10-943b-4a5a-f57f-1502c8a98761",
        "colab": {
          "base_uri": "https://localhost:8080/"
        },
        "id": "AiYqin1x4TLh"
      },
      "execution_count": 90,
      "outputs": [
        {
          "output_type": "execute_result",
          "data": {
            "text/plain": [
              "(3, 2)"
            ]
          },
          "metadata": {},
          "execution_count": 90
        }
      ]
    },
    {
      "cell_type": "markdown",
      "source": [
        "## Tensor"
      ],
      "metadata": {
        "id": "ZZ3aWL8Gzu0Q"
      }
    },
    {
      "cell_type": "code",
      "source": [
        "m1 = np.array([[5,12,6],[-3,0,14]])\n",
        "m1"
      ],
      "metadata": {
        "colab": {
          "base_uri": "https://localhost:8080/"
        },
        "id": "PxAXredMy2CX",
        "outputId": "27a09847-3101-4b1c-b0bb-2de3e4202077"
      },
      "execution_count": 32,
      "outputs": [
        {
          "output_type": "execute_result",
          "data": {
            "text/plain": [
              "array([[ 5, 12,  6],\n",
              "       [-3,  0, 14]])"
            ]
          },
          "metadata": {},
          "execution_count": 32
        }
      ]
    },
    {
      "cell_type": "code",
      "source": [
        "m2 = np.array([[9,8,7],[1,3,-5]])\n",
        "m2"
      ],
      "metadata": {
        "colab": {
          "base_uri": "https://localhost:8080/"
        },
        "id": "mQXYwyOwzyAq",
        "outputId": "52c64c4f-215f-46a5-ebe2-b7e0e55f383d"
      },
      "execution_count": 33,
      "outputs": [
        {
          "output_type": "execute_result",
          "data": {
            "text/plain": [
              "array([[ 9,  8,  7],\n",
              "       [ 1,  3, -5]])"
            ]
          },
          "metadata": {},
          "execution_count": 33
        }
      ]
    },
    {
      "cell_type": "code",
      "source": [
        "t = np.array([m1,m2])"
      ],
      "metadata": {
        "id": "F9f45Q9xz0Cf"
      },
      "execution_count": 34,
      "outputs": []
    },
    {
      "cell_type": "code",
      "source": [
        "t"
      ],
      "metadata": {
        "colab": {
          "base_uri": "https://localhost:8080/"
        },
        "id": "Ljf6JH7Bz5Dq",
        "outputId": "858757f7-17ef-482e-e437-1e45df8d52c8"
      },
      "execution_count": 35,
      "outputs": [
        {
          "output_type": "execute_result",
          "data": {
            "text/plain": [
              "array([[[ 5, 12,  6],\n",
              "        [-3,  0, 14]],\n",
              "\n",
              "       [[ 9,  8,  7],\n",
              "        [ 1,  3, -5]]])"
            ]
          },
          "metadata": {},
          "execution_count": 35
        }
      ]
    },
    {
      "cell_type": "code",
      "source": [
        "type(t)"
      ],
      "metadata": {
        "colab": {
          "base_uri": "https://localhost:8080/"
        },
        "id": "q99CmfRmz5r_",
        "outputId": "37a505a9-4a84-4e05-ddd4-cc1ae8eb7f05"
      },
      "execution_count": 36,
      "outputs": [
        {
          "output_type": "execute_result",
          "data": {
            "text/plain": [
              "numpy.ndarray"
            ]
          },
          "metadata": {},
          "execution_count": 36
        }
      ]
    },
    {
      "cell_type": "code",
      "source": [
        "t.shape"
      ],
      "metadata": {
        "colab": {
          "base_uri": "https://localhost:8080/"
        },
        "id": "VAY3jWmhz7Qi",
        "outputId": "2ca34580-2a18-41a3-a4c3-e52324f74f41"
      },
      "execution_count": 37,
      "outputs": [
        {
          "output_type": "execute_result",
          "data": {
            "text/plain": [
              "(2, 2, 3)"
            ]
          },
          "metadata": {},
          "execution_count": 37
        }
      ]
    },
    {
      "cell_type": "code",
      "source": [
        "t_manual = np.array([[[9,8,7],[1,3,-5]], [[5,12,6],[-3,0,14]]])"
      ],
      "metadata": {
        "id": "ro83tASdz8PU"
      },
      "execution_count": 38,
      "outputs": []
    },
    {
      "cell_type": "code",
      "source": [
        "t_manual"
      ],
      "metadata": {
        "colab": {
          "base_uri": "https://localhost:8080/"
        },
        "id": "-aAXTlHL0KaG",
        "outputId": "0b74254c-1d04-459c-c6f3-b227c5d2bbdf"
      },
      "execution_count": 39,
      "outputs": [
        {
          "output_type": "execute_result",
          "data": {
            "text/plain": [
              "array([[[ 9,  8,  7],\n",
              "        [ 1,  3, -5]],\n",
              "\n",
              "       [[ 5, 12,  6],\n",
              "        [-3,  0, 14]]])"
            ]
          },
          "metadata": {},
          "execution_count": 39
        }
      ]
    },
    {
      "cell_type": "code",
      "source": [
        "type(t_manual)"
      ],
      "metadata": {
        "colab": {
          "base_uri": "https://localhost:8080/"
        },
        "id": "PUdi1ef50Lwq",
        "outputId": "d170aca5-e440-4ebf-c92d-c3100c8e09fe"
      },
      "execution_count": 40,
      "outputs": [
        {
          "output_type": "execute_result",
          "data": {
            "text/plain": [
              "numpy.ndarray"
            ]
          },
          "metadata": {},
          "execution_count": 40
        }
      ]
    },
    {
      "cell_type": "code",
      "source": [
        "t_manual.shape"
      ],
      "metadata": {
        "colab": {
          "base_uri": "https://localhost:8080/"
        },
        "id": "en1wp8fr0QU3",
        "outputId": "f9436584-59f7-4e5f-ba74-7e27f557e98f"
      },
      "execution_count": 41,
      "outputs": [
        {
          "output_type": "execute_result",
          "data": {
            "text/plain": [
              "(2, 2, 3)"
            ]
          },
          "metadata": {},
          "execution_count": 41
        }
      ]
    },
    {
      "cell_type": "code",
      "source": [],
      "metadata": {
        "id": "aB_k2w6k0SDI"
      },
      "execution_count": null,
      "outputs": []
    },
    {
      "cell_type": "markdown",
      "source": [
        "## Dot product"
      ],
      "metadata": {
        "id": "NSQLj-Yu5KSo"
      }
    },
    {
      "cell_type": "markdown",
      "source": [
        "> ### Scalar * Scalar"
      ],
      "metadata": {
        "id": "x-WFaYUA5O_V"
      }
    },
    {
      "cell_type": "code",
      "source": [
        "np.dot(5,6)"
      ],
      "metadata": {
        "colab": {
          "base_uri": "https://localhost:8080/"
        },
        "outputId": "9a6fb9fa-4d9e-4dc3-9352-2c0c7ddbb0d2",
        "id": "H8lsZSQ55KSo"
      },
      "execution_count": 91,
      "outputs": [
        {
          "output_type": "execute_result",
          "data": {
            "text/plain": [
              "30"
            ]
          },
          "metadata": {},
          "execution_count": 91
        }
      ]
    },
    {
      "cell_type": "markdown",
      "source": [
        "> ### Scalar * Vector"
      ],
      "metadata": {
        "id": "1GHOtrmv5S9s"
      }
    },
    {
      "cell_type": "code",
      "source": [
        "x = np.array([2,8,-4])\n",
        "x"
      ],
      "metadata": {
        "colab": {
          "base_uri": "https://localhost:8080/"
        },
        "outputId": "8ea7ead2-a8c4-421a-c45e-c253b66debb9",
        "id": "MaRUhH5S5KSp"
      },
      "execution_count": 93,
      "outputs": [
        {
          "output_type": "execute_result",
          "data": {
            "text/plain": [
              "array([ 2,  8, -4])"
            ]
          },
          "metadata": {},
          "execution_count": 93
        }
      ]
    },
    {
      "cell_type": "code",
      "source": [
        "5*x"
      ],
      "metadata": {
        "colab": {
          "base_uri": "https://localhost:8080/"
        },
        "id": "xL6ecB4i5KSp",
        "outputId": "569403fa-bdd5-4a82-a9ec-845fd64f8119"
      },
      "execution_count": 94,
      "outputs": [
        {
          "output_type": "execute_result",
          "data": {
            "text/plain": [
              "array([ 10,  40, -20])"
            ]
          },
          "metadata": {},
          "execution_count": 94
        }
      ]
    },
    {
      "cell_type": "markdown",
      "source": [
        "> ### Vector * Vector"
      ],
      "metadata": {
        "id": "Y4kqYyrG5jls"
      }
    },
    {
      "cell_type": "code",
      "source": [
        "x = np.array([2,8,-4])\n",
        "y = np.array([1,-7,3])\n",
        "print(\"X : \", x, '\\nY : ', y)"
      ],
      "metadata": {
        "colab": {
          "base_uri": "https://localhost:8080/"
        },
        "outputId": "c87c026a-a45f-4223-e6a0-c4f1e9286cf9",
        "id": "_Lx41bKS5KSp"
      },
      "execution_count": 96,
      "outputs": [
        {
          "output_type": "stream",
          "name": "stdout",
          "text": [
            "X :  [ 2  8 -4] \n",
            "Y :  [ 1 -7  3]\n"
          ]
        }
      ]
    },
    {
      "cell_type": "code",
      "source": [
        "np.dot(x,y)"
      ],
      "metadata": {
        "colab": {
          "base_uri": "https://localhost:8080/"
        },
        "outputId": "fc3c018e-8ca3-4220-890b-0fef8fa5451c",
        "id": "R1kjJWwY5KSp"
      },
      "execution_count": 97,
      "outputs": [
        {
          "output_type": "execute_result",
          "data": {
            "text/plain": [
              "-66"
            ]
          },
          "metadata": {},
          "execution_count": 97
        }
      ]
    },
    {
      "cell_type": "markdown",
      "source": [
        "> ### Scalar * Matrix"
      ],
      "metadata": {
        "id": "uEeUSRyC7D4r"
      }
    },
    {
      "cell_type": "code",
      "source": [
        "A = np.array([[5,12,6],[-3,0,14]])\n",
        "A"
      ],
      "metadata": {
        "colab": {
          "base_uri": "https://localhost:8080/"
        },
        "id": "GtDrnGJI7GUD",
        "outputId": "73bc15b7-187d-4b75-8fd6-5f14c09f632c"
      },
      "execution_count": 98,
      "outputs": [
        {
          "output_type": "execute_result",
          "data": {
            "text/plain": [
              "array([[ 5, 12,  6],\n",
              "       [-3,  0, 14]])"
            ]
          },
          "metadata": {},
          "execution_count": 98
        }
      ]
    },
    {
      "cell_type": "code",
      "source": [
        "A*7"
      ],
      "metadata": {
        "colab": {
          "base_uri": "https://localhost:8080/"
        },
        "id": "UCWxWmUq7HmD",
        "outputId": "7fcc94f6-5955-41a3-fa75-e9e679b773c5"
      },
      "execution_count": 99,
      "outputs": [
        {
          "output_type": "execute_result",
          "data": {
            "text/plain": [
              "array([[ 35,  84,  42],\n",
              "       [-21,   0,  98]])"
            ]
          },
          "metadata": {},
          "execution_count": 99
        }
      ]
    },
    {
      "cell_type": "markdown",
      "source": [
        "> ### Metrix * Metrix"
      ],
      "metadata": {
        "id": "GMDO_BUE6-rx"
      }
    },
    {
      "cell_type": "code",
      "source": [
        "A = np.array([[5,12,6],[-3,0,14]])\n",
        "print(\"A : \\n\", A, '\\n\\n Shape Of A : ', A.shape)"
      ],
      "metadata": {
        "colab": {
          "base_uri": "https://localhost:8080/"
        },
        "outputId": "6af7b237-8d5b-4fdb-a353-2f3e1631b346",
        "id": "cO9Uwpbf6-rx"
      },
      "execution_count": 108,
      "outputs": [
        {
          "output_type": "stream",
          "name": "stdout",
          "text": [
            "A : \n",
            " [[ 5 12  6]\n",
            " [-3  0 14]] \n",
            "\n",
            " Shape Of A :  (2, 3)\n"
          ]
        }
      ]
    },
    {
      "cell_type": "code",
      "source": [
        "B = np.array([[2,-1],[8,0],[3,0]])\n",
        "print(\"B : \\n\", B, '\\n\\n Shape Of B : ', B.shape)"
      ],
      "metadata": {
        "colab": {
          "base_uri": "https://localhost:8080/"
        },
        "outputId": "9439ae1a-44da-45ea-fd89-2d4a3204a435",
        "id": "v_DQuLLM6-rx"
      },
      "execution_count": 109,
      "outputs": [
        {
          "output_type": "stream",
          "name": "stdout",
          "text": [
            "B : \n",
            " [[ 2 -1]\n",
            " [ 8  0]\n",
            " [ 3  0]] \n",
            "\n",
            " Shape Of B :  (3, 2)\n"
          ]
        }
      ]
    },
    {
      "cell_type": "code",
      "source": [
        "Z = np.dot(A,B)\n",
        "print(\"Z : \\n\", Z, '\\n\\n Shape Of Z : ', Z.shape)"
      ],
      "metadata": {
        "colab": {
          "base_uri": "https://localhost:8080/"
        },
        "id": "o-8QhZc47aJR",
        "outputId": "09b40407-0775-48db-bc23-7fdbf176061f"
      },
      "execution_count": 110,
      "outputs": [
        {
          "output_type": "stream",
          "name": "stdout",
          "text": [
            "Z : \n",
            " [[124  -5]\n",
            " [ 36   3]] \n",
            "\n",
            " Shape Of Z :  (2, 2)\n"
          ]
        }
      ]
    },
    {
      "cell_type": "code",
      "source": [
        "C = np.array([[-12,5,-5,1,6],[6,-2,0,0,-3],[10,2,0,8,0],[9,-4,8,3,-6]])\n",
        "print(\"C : \\n\", C, '\\n\\n Shape Of C : ', C.shape)"
      ],
      "metadata": {
        "colab": {
          "base_uri": "https://localhost:8080/"
        },
        "id": "CeX3rryV7cdV",
        "outputId": "5e739b7c-17b4-4313-9dc3-09852a4bd234"
      },
      "execution_count": 111,
      "outputs": [
        {
          "output_type": "stream",
          "name": "stdout",
          "text": [
            "C : \n",
            " [[-12   5  -5   1   6]\n",
            " [  6  -2   0   0  -3]\n",
            " [ 10   2   0   8   0]\n",
            " [  9  -4   8   3  -6]] \n",
            "\n",
            " Shape Of C :  (4, 5)\n"
          ]
        }
      ]
    },
    {
      "cell_type": "code",
      "source": [
        "D = np.array([[6,-1],[8,-4],[2,-2],[7,4],[-6,-9]])\n",
        "print(\"D : \\n\", D, '\\n\\n Shape Of D : ', D.shape)"
      ],
      "metadata": {
        "colab": {
          "base_uri": "https://localhost:8080/"
        },
        "id": "P8S2sOmM77aZ",
        "outputId": "463888d2-5c90-47b3-8e20-d9090d84b339"
      },
      "execution_count": 112,
      "outputs": [
        {
          "output_type": "stream",
          "name": "stdout",
          "text": [
            "D : \n",
            " [[ 6 -1]\n",
            " [ 8 -4]\n",
            " [ 2 -2]\n",
            " [ 7  4]\n",
            " [-6 -9]] \n",
            "\n",
            " Shape Of D :  (5, 2)\n"
          ]
        }
      ]
    },
    {
      "cell_type": "code",
      "source": [
        "W = np.dot(C, D)\n",
        "print(\"W : \\n\", W, '\\n\\n Shape Of W : ', W.shape)"
      ],
      "metadata": {
        "colab": {
          "base_uri": "https://localhost:8080/"
        },
        "id": "E9hLfmxi7_wA",
        "outputId": "54f44500-a593-4454-f504-09df66bc08f9"
      },
      "execution_count": 114,
      "outputs": [
        {
          "output_type": "stream",
          "name": "stdout",
          "text": [
            "W : \n",
            " [[-71 -48]\n",
            " [ 38  29]\n",
            " [132  14]\n",
            " [ 95  57]] \n",
            "\n",
            " Shape Of W :  (4, 2)\n"
          ]
        }
      ]
    }
  ]
}